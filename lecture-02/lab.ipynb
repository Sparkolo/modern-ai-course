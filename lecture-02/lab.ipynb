{
  "nbformat": 4,
  "nbformat_minor": 2,
  "metadata": {
    "colab": {
      "name": "connect4.ipynb",
      "provenance": [],
      "collapsed_sections": []
    },
    "kernelspec": {
      "name": "python3",
      "display_name": "Python 3.9.5 64-bit ('base': conda)"
    },
    "language_info": {
      "name": "python",
      "version": "3.9.5",
      "mimetype": "text/x-python",
      "codemirror_mode": {
        "name": "ipython",
        "version": 3
      },
      "pygments_lexer": "ipython3",
      "nbconvert_exporter": "python",
      "file_extension": ".py"
    },
    "interpreter": {
      "hash": "ecf5722fdaf1897a315d257d89d94520bfcaa453217d5becf09b39e73618b0de"
    }
  },
  "cells": [
    {
      "cell_type": "markdown",
      "source": [
        "[![Open In Colab](https://colab.research.google.com/assets/colab-badge.svg)](https://colab.research.google.com/github/real-itu/modern-ai-course/blob/master/lecture-02/lab.ipynb)"
      ],
      "metadata": {
        "id": "hFgoWb-cQTFe"
      }
    },
    {
      "cell_type": "markdown",
      "source": [
        "# Lab 2 - Adversarial Search\n",
        "\n",
        "[Connect 4](https://en.wikipedia.org/wiki/Connect_Four) is a classic board game in which 2 players alternate placing markers in columns, and the goal is to get 4 in a row, either horizontally, vertically or diagonally. See the short video below"
      ],
      "metadata": {
        "id": "WCsnF20ssl92"
      }
    },
    {
      "cell_type": "code",
      "execution_count": null,
      "source": [
        "from IPython.display import YouTubeVideo\r\n",
        "YouTubeVideo(\"ylZBRUJi3UQ\")"
      ],
      "outputs": [],
      "metadata": {
        "id": "FjNjkAQMt3D5"
      }
    },
    {
      "cell_type": "markdown",
      "source": [
        "The game is implemented below. It will play a game where both players take random (legal) actions. The MAX player is represented with a X and the MIN player with an O. The MAX player starts. Execute the code."
      ],
      "metadata": {
        "id": "j6HUcMYbuEq_"
      }
    },
    {
      "cell_type": "code",
      "execution_count": 1,
      "source": [
        "import random\r\n",
        "from copy import deepcopy\r\n",
        "from typing import Sequence\r\n",
        "\r\n",
        "NONE = '.'\r\n",
        "MAX = 'X'\r\n",
        "MIN = 'O'\r\n",
        "COLS = 7\r\n",
        "ROWS = 6\r\n",
        "N_WIN = 4\r\n",
        "\r\n",
        "\r\n",
        "class ArrayState:\r\n",
        "    def __init__(self, board, heights, n_moves):\r\n",
        "        self.board = board\r\n",
        "        self.heights = heights\r\n",
        "        self.n_moves = n_moves\r\n",
        "\r\n",
        "    @staticmethod\r\n",
        "    def init():\r\n",
        "        board = [[NONE] * ROWS for _ in range(COLS)]\r\n",
        "        return ArrayState(board, [0] * COLS, 0)\r\n",
        "\r\n",
        "\r\n",
        "def result(state: ArrayState, action: int) -> ArrayState:\r\n",
        "    \"\"\"Insert in the given column.\"\"\"\r\n",
        "    assert 0 <= action < COLS, \"action must be a column number\"\r\n",
        "\r\n",
        "    if state.heights[action] >= ROWS:\r\n",
        "        raise Exception('Column is full')\r\n",
        "\r\n",
        "    player = MAX if state.n_moves % 2 == 0 else MIN\r\n",
        "\r\n",
        "    board = deepcopy(state.board)\r\n",
        "    board[action][ROWS - state.heights[action] - 1] = player\r\n",
        "\r\n",
        "    heights = deepcopy(state.heights)\r\n",
        "    heights[action] += 1\r\n",
        "\r\n",
        "    return ArrayState(board, heights, state.n_moves + 1)\r\n",
        "\r\n",
        "\r\n",
        "def actions(state: ArrayState) -> Sequence[int]:\r\n",
        "    return [i for i in range(COLS) if state.heights[i] < ROWS]\r\n",
        "\r\n",
        "\r\n",
        "def utility(state: ArrayState) -> float:\r\n",
        "    \"\"\"Get the winner on the current board.\"\"\"\r\n",
        "\r\n",
        "    board = state.board\r\n",
        "\r\n",
        "    def diagonalsPos():\r\n",
        "        \"\"\"Get positive diagonals, going from bottom-left to top-right.\"\"\"\r\n",
        "        for di in ([(j, i - j) for j in range(COLS)] for i in range(COLS + ROWS - 1)):\r\n",
        "            yield [board[i][j] for i, j in di if i >= 0 and j >= 0 and i < COLS and j < ROWS]\r\n",
        "\r\n",
        "    def diagonalsNeg():\r\n",
        "        \"\"\"Get negative diagonals, going from top-left to bottom-right.\"\"\"\r\n",
        "        for di in ([(j, i - COLS + j + 1) for j in range(COLS)] for i in range(COLS + ROWS - 1)):\r\n",
        "            yield [board[i][j] for i, j in di if i >= 0 and j >= 0 and i < COLS and j < ROWS]\r\n",
        "\r\n",
        "    lines = board + \\\r\n",
        "            list(zip(*board)) + \\\r\n",
        "            list(diagonalsNeg()) + \\\r\n",
        "            list(diagonalsPos())\r\n",
        "\r\n",
        "    max_win = MAX * N_WIN\r\n",
        "    min_win = MIN * N_WIN\r\n",
        "    for line in lines:\r\n",
        "        str_line = \"\".join(line)\r\n",
        "        if max_win in str_line:\r\n",
        "            return 1\r\n",
        "        elif min_win in str_line:\r\n",
        "            return -1\r\n",
        "    return 0\r\n",
        "\r\n",
        "\r\n",
        "def terminal_test(state: ArrayState) -> bool:\r\n",
        "    return state.n_moves >= COLS * ROWS or utility(state) != 0\r\n",
        "\r\n",
        "\r\n",
        "def printBoard(state: ArrayState):\r\n",
        "    board = state.board\r\n",
        "    \"\"\"Print the board.\"\"\"\r\n",
        "    print('  '.join(map(str, range(COLS))))\r\n",
        "    for y in range(ROWS):\r\n",
        "        print('  '.join(str(board[x][y]) for x in range(COLS)))\r\n",
        "    print()\r\n",
        "\r\n",
        "\r\n",
        "if __name__ == '__main__':\r\n",
        "    s = ArrayState.init()\r\n",
        "    while not terminal_test(s):\r\n",
        "        a = random.choice(actions(s))\r\n",
        "        s = result(s, a)\r\n",
        "        printBoard(s)\r\n",
        "    print(utility(s))\r\n"
      ],
      "outputs": [
        {
          "output_type": "error",
          "ename": "KeyboardInterrupt",
          "evalue": "Interrupted by user",
          "traceback": [
            "\u001b[1;31m---------------------------------------------------------------------------\u001b[0m",
            "\u001b[1;31mKeyboardInterrupt\u001b[0m                         Traceback (most recent call last)",
            "\u001b[1;32mC:\\Users\\ALBERT~1\\AppData\\Local\\Temp/ipykernel_20300/1541391903.py\u001b[0m in \u001b[0;36m<module>\u001b[1;34m\u001b[0m\n\u001b[0;32m     96\u001b[0m         \u001b[1;32melse\u001b[0m\u001b[1;33m:\u001b[0m\u001b[1;33m\u001b[0m\u001b[1;33m\u001b[0m\u001b[0m\n\u001b[0;32m     97\u001b[0m             \u001b[0mprint\u001b[0m\u001b[1;33m(\u001b[0m\u001b[1;34m\"Player turn. Select a column (0-6):\"\u001b[0m\u001b[1;33m)\u001b[0m\u001b[1;33m\u001b[0m\u001b[1;33m\u001b[0m\u001b[0m\n\u001b[1;32m---> 98\u001b[1;33m             \u001b[0ma\u001b[0m \u001b[1;33m=\u001b[0m \u001b[0minput\u001b[0m\u001b[1;33m(\u001b[0m\u001b[1;33m)\u001b[0m\u001b[1;33m\u001b[0m\u001b[1;33m\u001b[0m\u001b[0m\n\u001b[0m\u001b[0;32m     99\u001b[0m         \u001b[0ms\u001b[0m \u001b[1;33m=\u001b[0m \u001b[0mresult\u001b[0m\u001b[1;33m(\u001b[0m\u001b[0ms\u001b[0m\u001b[1;33m,\u001b[0m \u001b[0ma\u001b[0m\u001b[1;33m)\u001b[0m\u001b[1;33m\u001b[0m\u001b[1;33m\u001b[0m\u001b[0m\n\u001b[0;32m    100\u001b[0m         \u001b[0mprintBoard\u001b[0m\u001b[1;33m(\u001b[0m\u001b[0ms\u001b[0m\u001b[1;33m)\u001b[0m\u001b[1;33m\u001b[0m\u001b[1;33m\u001b[0m\u001b[0m\n",
            "\u001b[1;32mC:\\ProgramData\\Miniconda3\\lib\\site-packages\\ipykernel\\kernelbase.py\u001b[0m in \u001b[0;36mraw_input\u001b[1;34m(self, prompt)\u001b[0m\n\u001b[0;32m   1004\u001b[0m                 \u001b[1;34m\"raw_input was called, but this frontend does not support input requests.\"\u001b[0m\u001b[1;33m\u001b[0m\u001b[1;33m\u001b[0m\u001b[0m\n\u001b[0;32m   1005\u001b[0m             )\n\u001b[1;32m-> 1006\u001b[1;33m         return self._input_request(\n\u001b[0m\u001b[0;32m   1007\u001b[0m             \u001b[0mstr\u001b[0m\u001b[1;33m(\u001b[0m\u001b[0mprompt\u001b[0m\u001b[1;33m)\u001b[0m\u001b[1;33m,\u001b[0m\u001b[1;33m\u001b[0m\u001b[1;33m\u001b[0m\u001b[0m\n\u001b[0;32m   1008\u001b[0m             \u001b[0mself\u001b[0m\u001b[1;33m.\u001b[0m\u001b[0m_parent_ident\u001b[0m\u001b[1;33m[\u001b[0m\u001b[1;34m\"shell\"\u001b[0m\u001b[1;33m]\u001b[0m\u001b[1;33m,\u001b[0m\u001b[1;33m\u001b[0m\u001b[1;33m\u001b[0m\u001b[0m\n",
            "\u001b[1;32mC:\\ProgramData\\Miniconda3\\lib\\site-packages\\ipykernel\\kernelbase.py\u001b[0m in \u001b[0;36m_input_request\u001b[1;34m(self, prompt, ident, parent, password)\u001b[0m\n\u001b[0;32m   1049\u001b[0m             \u001b[1;32mexcept\u001b[0m \u001b[0mKeyboardInterrupt\u001b[0m\u001b[1;33m:\u001b[0m\u001b[1;33m\u001b[0m\u001b[1;33m\u001b[0m\u001b[0m\n\u001b[0;32m   1050\u001b[0m                 \u001b[1;31m# re-raise KeyboardInterrupt, to truncate traceback\u001b[0m\u001b[1;33m\u001b[0m\u001b[1;33m\u001b[0m\u001b[1;33m\u001b[0m\u001b[0m\n\u001b[1;32m-> 1051\u001b[1;33m                 \u001b[1;32mraise\u001b[0m \u001b[0mKeyboardInterrupt\u001b[0m\u001b[1;33m(\u001b[0m\u001b[1;34m\"Interrupted by user\"\u001b[0m\u001b[1;33m)\u001b[0m \u001b[1;32mfrom\u001b[0m \u001b[1;32mNone\u001b[0m\u001b[1;33m\u001b[0m\u001b[1;33m\u001b[0m\u001b[0m\n\u001b[0m\u001b[0;32m   1052\u001b[0m             \u001b[1;32mexcept\u001b[0m \u001b[0mException\u001b[0m\u001b[1;33m:\u001b[0m\u001b[1;33m\u001b[0m\u001b[1;33m\u001b[0m\u001b[0m\n\u001b[0;32m   1053\u001b[0m                 \u001b[0mself\u001b[0m\u001b[1;33m.\u001b[0m\u001b[0mlog\u001b[0m\u001b[1;33m.\u001b[0m\u001b[0mwarning\u001b[0m\u001b[1;33m(\u001b[0m\u001b[1;34m\"Invalid Message:\"\u001b[0m\u001b[1;33m,\u001b[0m \u001b[0mexc_info\u001b[0m\u001b[1;33m=\u001b[0m\u001b[1;32mTrue\u001b[0m\u001b[1;33m)\u001b[0m\u001b[1;33m\u001b[0m\u001b[1;33m\u001b[0m\u001b[0m\n",
            "\u001b[1;31mKeyboardInterrupt\u001b[0m: Interrupted by user"
          ]
        }
      ],
      "metadata": {
        "id": "-jWBNC6j1O91"
      }
    },
    {
      "cell_type": "markdown",
      "source": [
        "The last number 0, -1 or 1 is the utility or score of the game. 0 means it was a draw, 1 means MAX player won and -1 means MIN player won."
      ],
      "metadata": {
        "id": "rljSjxl4unxn"
      }
    },
    {
      "cell_type": "markdown",
      "source": [
        "### Exercise 1\n",
        "\n",
        "Modify the code so that you can play manually as the MIN player against the random AI."
      ],
      "metadata": {
        "id": "UUUpbYYJu6Zr"
      }
    },
    {
      "cell_type": "markdown",
      "source": [
        "### Exercise 2\n",
        "\n",
        "Implement standard minimax with a fixed depth search. Modify the utility function to handle non-terminal positions using heuristics. Find a value for the depth such that moves doesn't take longer than approx. 1s to evaluate. See if you can beat your connect4 AI."
      ],
      "metadata": {
        "id": "OrpAOYa-vbR6"
      }
    },
    {
      "cell_type": "markdown",
      "source": [
        "### Exercise 3\r\n",
        "\r\n",
        "Add alpha/beta pruning to your minimax. Change your depth so that moves still takes approx 1 second to evaluate. How much deeper can you search? See if you can beat your connect4 AI."
      ],
      "metadata": {
        "id": "-s7XbCsvwOtt"
      }
    },
    {
      "cell_type": "markdown",
      "source": [
        "### Exercise 4\n",
        "\n",
        "Add move ordering. The middle columns are often \"better\" since there's more winning positions that contain them. Evaluate the moves in this order: [3,2,4,1,5,0,6]. How much deeper can you search now? See if you can beat your connect4 AI"
      ],
      "metadata": {
        "id": "weG9OiFYwfSK"
      }
    },
    {
      "cell_type": "markdown",
      "source": [
        "### Exercise 5 - Optional\n",
        "\n",
        "Improve your AI somehow. Consider \n",
        "\n",
        "\n",
        "* Better heuristics\n",
        "* Faster board representations (look up bitboards)\n",
        "* Adding a transposition table (see class below)\n",
        "* Better move ordering"
      ],
      "metadata": {
        "id": "enbI-o_Cw6Jw"
      }
    },
    {
      "cell_type": "code",
      "execution_count": null,
      "source": [
        "class TranspositionTable:\r\n",
        "\r\n",
        "    def __init__(self, size=1_000_000):\r\n",
        "        self.size = size\r\n",
        "        self.vals = [None] * size\r\n",
        "\r\n",
        "    def board_str(self, state: ArrayState):\r\n",
        "        return ''.join([''.join(c) for c in state.board])\r\n",
        "\r\n",
        "    def put(self, state: ArrayState, utility: float):\r\n",
        "        bstr = self.board_str(state)\r\n",
        "        idx = hash(bstr) % self.size\r\n",
        "        self.vals[idx] = (bstr, utility)\r\n",
        "\r\n",
        "    def get(self, state: ArrayState):\r\n",
        "        bstr = self.board_str(state)\r\n",
        "        idx = hash(bstr) % self.size\r\n",
        "        stored = self.vals[idx]\r\n",
        "        if stored is None:\r\n",
        "            return None\r\n",
        "        if stored[0] == bstr:\r\n",
        "            return stored[1]\r\n",
        "        else:\r\n",
        "            return None"
      ],
      "outputs": [],
      "metadata": {
        "id": "uqAPS8cFgVN-"
      }
    }
  ]
}