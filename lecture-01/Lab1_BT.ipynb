{
 "cells": [
  {
   "cell_type": "markdown",
   "metadata": {},
   "source": [
    "# Lab 1: Designing AI agents using behavior trees for Pacman\n"
   ]
  },
  {
   "cell_type": "markdown",
   "metadata": {},
   "source": [
    "In this exercise, we learn to design a Packman agents using behaviour tree. We first start with two agents: `ZeroIntelligent` and `Intelligent` playing simple game. This acts as a practice to understand the Pacman framework and then utlize the same to design complex Pacman agents. Please try to understand the code before designing an agents based on behavioural tree.\n",
    "\n",
    "In the current setting a Pacman agent perform following actions: \n",
    "\n",
    "- **GoForward**: Take one step forward\n",
    "- **GoRight**: Turn 90 degrees right and take one step forward\n",
    "- **GoLeft**: Turn 90 degrees left and take one step forward\n",
    "- **GoBack**: Turn and 180 degrees and take one step forward\n",
    "- **Stop**: Shut down the agent\n",
    "- Any other command: No effect\n"
   ]
  },
  {
   "cell_type": "code",
   "execution_count": 3,
   "metadata": {
    "scrolled": true
   },
   "outputs": [],
   "source": [
    "from pacmanAgents import *\n",
    "from ghostAgents import *\n",
    "from pacman import *\n",
    "from game import *\n",
    "from util import *"
   ]
  },
  {
   "cell_type": "code",
   "execution_count": null,
   "metadata": {},
   "outputs": [],
   "source": [
    "# Run ZeroInteligent in the room layout \"layouts/custom.lay\"\n",
    "args = readCommand([\"--pacman\", ZeroIntelligent,\n",
    "                    \"--layout\", \"mediumClassic\"]) # remove this if it takes too much space\n",
    "# for more info about commands check line 530 in pacman.py\n",
    "\n",
    "del args['gameMenu']\n",
    "runGames(**args)"
   ]
  },
  {
   "cell_type": "code",
   "execution_count": null,
   "metadata": {
    "scrolled": true
   },
   "outputs": [],
   "source": [
    "# class Intelligent(BaseAgent):\n",
    "#     class State:\n",
    "#         def __init__(self):\n",
    "#             self.bump = False\n",
    "#             self.previous_action = \"\"\n",
    "#             self.actions = [\"GoRight\", \"GoLeft\", \"GoForward\", \"GoBack\"]\n",
    "\n",
    "#         def __repr__(self):\n",
    "#             if self.bump:\n",
    "#                 return self.previous_action + \" resulted in a bump\"\n",
    "#             else:\n",
    "#                 return self.previous_action\n",
    "    \n",
    "#     def update_state_with_percept(self, percept, state):\n",
    "#         if percept[1] == \"bump\":\n",
    "#             state.bump = True\n",
    "#         else:\n",
    "#             state.bump = False\n",
    "#         return state\n",
    "\n",
    "#     def choose_action(self, state):\n",
    "#         actions = state.actions\n",
    "#         if state.bump:\n",
    "#             actions.remove(state.previous_action)\n",
    "#         return random.choice(actions)\n",
    "\n",
    "#     def update_state_with_action(self, action, state):\n",
    "#         state.previous_action = action\n",
    "#         # Print the representation (i.e. __repr__) of the state\n",
    "#         print(state)\n",
    "#         return state"
   ]
  },
  {
   "cell_type": "code",
   "execution_count": 4,
   "metadata": {
    "scrolled": true
   },
   "outputs": [
    {
     "output_type": "stream",
     "name": "stdout",
     "text": [
      "<module 'ghostAgents' from 'c:\\\\Users\\\\algi\\\\Desktop\\\\ModernAI\\\\modern-ai-course\\\\lecture-01\\\\ghostAgents.py'>\n",
      "<module 'keyboardAgents' from 'c:\\\\Users\\\\algi\\\\Desktop\\\\ModernAI\\\\modern-ai-course\\\\lecture-01\\\\keyboardAgents.py'>\n",
      "<module 'pacmanAgents' from 'c:\\\\Users\\\\algi\\\\Desktop\\\\ModernAI\\\\modern-ai-course\\\\lecture-01\\\\pacmanAgents.py'>\n",
      "<module 'ghostAgents' from 'c:\\\\Users\\\\algi\\\\Desktop\\\\ModernAI\\\\modern-ai-course\\\\lecture-01\\\\ghostAgents.py'>\n",
      "Pacman died! Score: -320\n"
     ]
    },
    {
     "output_type": "execute_result",
     "data": {
      "text/plain": [
       "([], <graphicsDisplay.PacmanGraphics at 0x1d9f7895f70>)"
      ]
     },
     "metadata": {},
     "execution_count": 4
    }
   ],
   "source": [
    "# Run Intelligent agents\n",
    "args = readCommand([\"--pacman\", Intelligent,\n",
    "                    \"--layout\", \"mediumClassic\"])\n",
    "\n",
    "del args['gameMenu']\n",
    "runGames(**args)"
   ]
  },
  {
   "cell_type": "markdown",
   "metadata": {},
   "source": [
    "**Assignment 1**: Understand the Pacman framework. Then, compile the code to learn what agents are doing. Lastly, try to learn the understant the agents behavior under different layout."
   ]
  },
  {
   "cell_type": "markdown",
   "metadata": {},
   "source": [
    "**Assignment 2**: Design your agent using Behaviour Tree on the above configurations."
   ]
  },
  {
   "cell_type": "code",
   "execution_count": null,
   "metadata": {},
   "outputs": [],
   "source": [
    "class BehaviourTree(BaseAgent):\n",
    "    class State:\n",
    "    ##Your code here###\n",
    "    \n",
    "    "
   ]
  },
  {
   "cell_type": "code",
   "execution_count": 5,
   "metadata": {},
   "outputs": [
    {
     "output_type": "error",
     "ename": "NameError",
     "evalue": "name 'BehaviourTree' is not defined",
     "traceback": [
      "\u001b[1;31m---------------------------------------------------------------------------\u001b[0m",
      "\u001b[1;31mNameError\u001b[0m                                 Traceback (most recent call last)",
      "\u001b[1;32m~\\AppData\\Local\\Temp/ipykernel_12172/3889953274.py\u001b[0m in \u001b[0;36m<module>\u001b[1;34m\u001b[0m\n\u001b[0;32m      1\u001b[0m \u001b[1;31m# Run BehaviourTree agents\u001b[0m\u001b[1;33m\u001b[0m\u001b[1;33m\u001b[0m\u001b[1;33m\u001b[0m\u001b[0m\n\u001b[1;32m----> 2\u001b[1;33m args = readCommand([\"--pacman\", BehaviourTree,\n\u001b[0m\u001b[0;32m      3\u001b[0m                     \"--layout\", \"mediumClassic\"])\n\u001b[0;32m      4\u001b[0m \u001b[1;33m\u001b[0m\u001b[0m\n\u001b[0;32m      5\u001b[0m \u001b[1;32mdel\u001b[0m \u001b[0margs\u001b[0m\u001b[1;33m[\u001b[0m\u001b[1;34m'gameMenu'\u001b[0m\u001b[1;33m]\u001b[0m\u001b[1;33m\u001b[0m\u001b[1;33m\u001b[0m\u001b[0m\n",
      "\u001b[1;31mNameError\u001b[0m: name 'BehaviourTree' is not defined"
     ]
    }
   ],
   "source": [
    "# Run BehaviourTree agents\n",
    "args = readCommand([\"--pacman\", BehaviourTree,\n",
    "                    \"--layout\", \"mediumClassic\"])\n",
    "                    \n",
    "del args['gameMenu']\n",
    "runGames(**args)"
   ]
  },
  {
   "cell_type": "markdown",
   "metadata": {},
   "source": [
    "**Assignment 3:** Implement some complex model using Ghost agents (e.g. Random, Chasing, Directional etc.) and Food or Pills options as discussed in the following:\n",
    "\n",
    "<ul>\n",
    "\n",
    "- __[Behavior Trees for Pacman](https://towardsdatascience.com/designing-ai-agents-behaviors-with-behavior-trees-b28aa1c3cf8a)__  \n",
    "- __[ Behavior Trees in Robotics and AI: An Introduction](https://btirai.github.io/)__\n",
    "\n",
    "</ul>\n"
   ]
  },
  {
   "cell_type": "code",
   "execution_count": null,
   "metadata": {},
   "outputs": [],
   "source": []
  }
 ],
 "metadata": {
  "kernelspec": {
   "name": "python3",
   "display_name": "Python 3.9.5 64-bit",
   "metadata": {
    "interpreter": {
     "hash": "ecf5722fdaf1897a315d257d89d94520bfcaa453217d5becf09b39e73618b0de"
    }
   }
  },
  "language_info": {
   "codemirror_mode": {
    "name": "ipython",
    "version": 3
   },
   "file_extension": ".py",
   "mimetype": "text/x-python",
   "name": "python",
   "nbconvert_exporter": "python",
   "pygments_lexer": "ipython3",
   "version": "3.9.5"
  }
 },
 "nbformat": 4,
 "nbformat_minor": 4
}